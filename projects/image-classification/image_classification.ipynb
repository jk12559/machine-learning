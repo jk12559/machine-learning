{
 "cells": [
  {
   "cell_type": "markdown",
   "metadata": {
    "collapsed": true
   },
   "source": [
    "# Image Classification\n",
    "In this project, you'll classify images from the [CIFAR-10 dataset](https://www.cs.toronto.edu/~kriz/cifar.html).  The dataset consists of airplanes, dogs, cats, and other objects. You'll preprocess the images, then train a convolutional neural network on all the samples. The images need to be normalized and the labels need to be one-hot encoded.  You'll get to apply what you learned and build a convolutional, max pooling, dropout, and fully connected layers.  At the end, you'll get to see your neural network's predictions on the sample images.\n",
    "## Get the Data\n",
    "Run the following cell to download the [CIFAR-10 dataset for python](https://www.cs.toronto.edu/~kriz/cifar-10-python.tar.gz)."
   ]
  },
  {
   "cell_type": "code",
   "execution_count": 2,
   "metadata": {},
   "outputs": [
    {
     "name": "stderr",
     "output_type": "stream",
     "text": [
      "CIFAR-10 Dataset: 171MB [00:46, 3.67MB/s]                              \n"
     ]
    },
    {
     "name": "stdout",
     "output_type": "stream",
     "text": [
      "All files found!\n"
     ]
    }
   ],
   "source": [
    "\"\"\"\n",
    "DON'T MODIFY ANYTHING IN THIS CELL THAT IS BELOW THIS LINE\n",
    "\"\"\"\n",
    "from urllib.request import urlretrieve\n",
    "from os.path import isfile, isdir\n",
    "from tqdm import tqdm\n",
    "import problem_unittests as tests\n",
    "import tarfile\n",
    "\n",
    "cifar10_dataset_folder_path = 'cifar-10-batches-py'\n",
    "\n",
    "class DLProgress(tqdm):\n",
    "    last_block = 0\n",
    "\n",
    "    def hook(self, block_num=1, block_size=1, total_size=None):\n",
    "        self.total = total_size\n",
    "        self.update((block_num - self.last_block) * block_size)\n",
    "        self.last_block = block_num\n",
    "\n",
    "if not isfile('cifar-10-python.tar.gz'):\n",
    "    with DLProgress(unit='B', unit_scale=True, miniters=1, desc='CIFAR-10 Dataset') as pbar:\n",
    "        urlretrieve(\n",
    "            'https://www.cs.toronto.edu/~kriz/cifar-10-python.tar.gz',\n",
    "            'cifar-10-python.tar.gz',\n",
    "            pbar.hook)\n",
    "\n",
    "if not isdir(cifar10_dataset_folder_path):\n",
    "    with tarfile.open('cifar-10-python.tar.gz') as tar:\n",
    "        tar.extractall()\n",
    "        tar.close()\n",
    "\n",
    "\n",
    "tests.test_folder_path(cifar10_dataset_folder_path)"
   ]
  },
  {
   "cell_type": "markdown",
   "metadata": {},
   "source": [
    "## Explore the Data\n",
    "The dataset is broken into batches to prevent your machine from running out of memory.  The CIFAR-10 dataset consists of 5 batches, named `data_batch_1`, `data_batch_2`, etc.. Each batch contains the labels and images that are one of the following:\n",
    "* airplane\n",
    "* automobile\n",
    "* bird\n",
    "* cat\n",
    "* deer\n",
    "* dog\n",
    "* frog\n",
    "* horse\n",
    "* ship\n",
    "* truck\n",
    "\n",
    "Understanding a dataset is part of making predictions on the data.  Play around with the code cell below by changing the `batch_id` and `sample_id`. The `batch_id` is the id for a batch (1-5). The `sample_id` is the id for a image and label pair in the batch.\n",
    "\n",
    "Ask yourself \"What are all possible labels?\", \"What is the range of values for the image data?\", \"Are the labels in order or random?\".  Answers to questions like these will help you preprocess the data and end up with better predictions."
   ]
  },
  {
   "cell_type": "code",
   "execution_count": 6,
   "metadata": {},
   "outputs": [
    {
     "name": "stdout",
     "output_type": "stream",
     "text": [
      "\n",
      "Stats of batch 3:\n",
      "Samples: 10000\n",
      "Label Counts: {0: 994, 1: 1042, 2: 965, 3: 997, 4: 990, 5: 1029, 6: 978, 7: 1015, 8: 961, 9: 1029}\n",
      "First 20 Labels: [8, 5, 0, 6, 9, 2, 8, 3, 6, 2, 7, 4, 6, 9, 0, 0, 7, 3, 7, 2]\n",
      "\n",
      "Example of Image 4:\n",
      "Image - Min Value: 10 Max Value: 255\n",
      "Image - Shape: (32, 32, 3)\n",
      "Label - Label Id: 9 Name: truck\n"
     ]
    },
    {
     "data": {
      "image/png": "[encoded data removed]",
      "text/plain": [
       "<matplotlib.figure.Figure at 0x11e136898>"
      ]
     },
     "metadata": {
      "image/png": {
       "height": 250,
       "width": 253
      }
     },
     "output_type": "display_data"
    }
   ],
   "source": [
    "%matplotlib inline\n",
    "%config InlineBackend.figure_format = 'retina'\n",
    "\n",
    "import helper\n",
    "import numpy as np\n",
    "\n",
    "# Explore the dataset\n",
    "batch_id = 3\n",
    "sample_id = 4\n",
    "helper.display_stats(cifar10_dataset_folder_path, batch_id, sample_id)"
   ]
  },
  {
   "cell_type": "markdown",
   "metadata": {},
   "source": [
    "## Implement Preprocess Functions\n",
    "### Normalize\n",
    "In the cell below, implement the `normalize` function to take in image data, `x`, and return it as a normalized Numpy array. The values should be in the range of 0 to 1, inclusive.  The return object should be the same shape as `x`."
   ]
  },
  {
   "cell_type": "code",
   "execution_count": 9,
   "metadata": {},
   "outputs": [
    {
     "name": "stdout",
     "output_type": "stream",
     "text": [
      "Tests Passed\n"
     ]
    }
   ],
   "source": [
    "def normalize(x):\n",
    "    \"\"\"\n",
    "    Normalize a list of sample image data in the range of 0 to 1\n",
    "    : x: List of image data.  The image shape is (32, 32, 3)\n",
    "    : return: Numpy array of normalize data\n",
    "    \"\"\"\n",
    "    # TODO: Implement Function\n",
    "    return 1.0*x/255\n",
    "\n",
    "\n",
    "\"\"\"\n",
    "DON'T MODIFY ANYTHING IN THIS CELL THAT IS BELOW THIS LINE\n",
    "\"\"\"\n",
    "tests.test_normalize(normalize)"
   ]
  },
  {
   "cell_type": "markdown",
   "metadata": {},
   "source": [
    "### One-hot encode\n",
    "Just like the previous code cell, you'll be implementing a function for preprocessing.  This time, you'll implement the `one_hot_encode` function. The input, `x`, are a list of labels.  Implement the function to return the list of labels as One-Hot encoded Numpy array.  The possible values for labels are 0 to 9. The one-hot encoding function should return the same encoding for each value between each call to `one_hot_encode`.  Make sure to save the map of encodings outside the function.\n",
    "\n",
    "**Hint:**\n",
    "\n",
    "Look into LabelBinarizer in the preprocessing module of sklearn."
   ]
  },
  {
   "cell_type": "code",
   "execution_count": 15,
   "metadata": {},
   "outputs": [
    {
     "name": "stdout",
     "output_type": "stream",
     "text": [
      "Tests Passed\n"
     ]
    }
   ],
   "source": [
    "from sklearn.preprocessing import LabelBinarizer\n",
    "lb = LabelBinarizer()\n",
    "lb.fit(range(10))\n",
    "def one_hot_encode(x):\n",
    "    \"\"\"\n",
    "    One hot encode a list of sample labels. Return a one-hot encoded vector for each label.\n",
    "    : x: List of sample Labels\n",
    "    : return: Numpy array of one-hot encoded labels\n",
    "    \"\"\"\n",
    "    # TODO: Implement Function\n",
    "    return lb.transform(x)\n",
    "\n",
    "\"\"\"\n",
    "DON'T MODIFY ANYTHING IN THIS CELL THAT IS BELOW THIS LINE\n",
    "\"\"\"\n",
    "tests.test_one_hot_encode(one_hot_encode)"
   ]
  },
  {
   "cell_type": "markdown",
   "metadata": {},
   "source": [
    "### Randomize Data\n",
    "As you saw from exploring the data above, the order of the samples are randomized.  It doesn't hurt to randomize it again, but you don't need to for this dataset."
   ]
  },
  {
   "cell_type": "markdown",
   "metadata": {},
   "source": [
    "## Preprocess all the data and save it\n",
    "Running the code cell below will preprocess all the CIFAR-10 data and save it to file. The code below also uses 10% of the training data for validation."
   ]
  },
  {
   "cell_type": "code",
   "execution_count": 16,
   "metadata": {
    "collapsed": true
   },
   "outputs": [],
   "source": [
    "\"\"\"\n",
    "DON'T MODIFY ANYTHING IN THIS CELL\n",
    "\"\"\"\n",
    "# Preprocess Training, Validation, and Testing Data\n",
    "helper.preprocess_and_save_data(cifar10_dataset_folder_path, normalize, one_hot_encode)"
   ]
  },
  {
   "cell_type": "markdown",
   "metadata": {},
   "source": [
    "# Check Point\n",
    "This is your first checkpoint.  If you ever decide to come back to this notebook or have to restart the notebook, you can start from here.  The preprocessed data has been saved to disk."
   ]
  },
  {
   "cell_type": "code",
   "execution_count": 13,
   "metadata": {
    "collapsed": true
   },
   "outputs": [],
   "source": [
    "\"\"\"\n",
    "DON'T MODIFY ANYTHING IN THIS CELL\n",
    "\"\"\"\n",
    "import pickle\n",
    "import problem_unittests as tests\n",
    "import helper\n",
    "import math\n",
    "\n",
    "# Load the Preprocessed Validation data\n",
    "valid_features, valid_labels = pickle.load(open('preprocess_validation.p', mode='rb'))"
   ]
  },
  {
   "cell_type": "markdown",
   "metadata": {},
   "source": [
    "## Build the network\n",
    "For the neural network, you'll build each layer into a function.  Most of the code you've seen has been outside of functions. To test your code more thoroughly, we require that you put each layer in a function.  This allows us to give you better feedback and test for simple mistakes using our unittests before you submit your project.\n",
    "\n",
    ">**Note:** If you're finding it hard to dedicate enough time for this course each week, we've provided a small shortcut to this part of the project. In the next couple of problems, you'll have the option to use classes from the [TensorFlow Layers](https://www.tensorflow.org/api_docs/python/tf/layers) or [TensorFlow Layers (contrib)](https://www.tensorflow.org/api_guides/python/contrib.layers) packages to build each layer, except the layers you build in the \"Convolutional and Max Pooling Layer\" section.  TF Layers is similar to Keras's and TFLearn's abstraction to layers, so it's easy to pickup.\n",
    "\n",
    ">However, if you would like to get the most out of this course, try to solve all the problems _without_ using anything from the TF Layers packages. You **can** still use classes from other packages that happen to have the same name as ones you find in TF Layers! For example, instead of using the TF Layers version of the `conv2d` class, [tf.layers.conv2d](https://www.tensorflow.org/api_docs/python/tf/layers/conv2d), you would want to use the TF Neural Network version of `conv2d`, [tf.nn.conv2d](https://www.tensorflow.org/api_docs/python/tf/nn/conv2d). \n",
    "\n",
    "Let's begin!\n",
    "\n",
    "### Input\n",
    "The neural network needs to read the image data, one-hot encoded labels, and dropout keep probability. Implement the following functions\n",
    "* Implement `neural_net_image_input`\n",
    " * Return a [TF Placeholder](https://www.tensorflow.org/api_docs/python/tf/placeholder)\n",
    " * Set the shape using `image_shape` with batch size set to `None`.\n",
    " * Name the TensorFlow placeholder \"x\" using the TensorFlow `name` parameter in the [TF Placeholder](https://www.tensorflow.org/api_docs/python/tf/placeholder).\n",
    "* Implement `neural_net_label_input`\n",
    " * Return a [TF Placeholder](https://www.tensorflow.org/api_docs/python/tf/placeholder)\n",
    " * Set the shape using `n_classes` with batch size set to `None`.\n",
    " * Name the TensorFlow placeholder \"y\" using the TensorFlow `name` parameter in the [TF Placeholder](https://www.tensorflow.org/api_docs/python/tf/placeholder).\n",
    "* Implement `neural_net_keep_prob_input`\n",
    " * Return a [TF Placeholder](https://www.tensorflow.org/api_docs/python/tf/placeholder) for dropout keep probability.\n",
    " * Name the TensorFlow placeholder \"keep_prob\" using the TensorFlow `name` parameter in the [TF Placeholder](https://www.tensorflow.org/api_docs/python/tf/placeholder).\n",
    "\n",
    "These names will be used at the end of the project to load your saved model.\n",
    "\n",
    "Note: `None` for shapes in TensorFlow allow for a dynamic size."
   ]
  },
  {
   "cell_type": "code",
   "execution_count": 14,
   "metadata": {},
   "outputs": [
    {
     "name": "stdout",
     "output_type": "stream",
     "text": [
      "Image Input Tests Passed.\n",
      "Label Input Tests Passed.\n",
      "Keep Prob Tests Passed.\n"
     ]
    }
   ],
   "source": [
    "import tensorflow as tf\n",
    "\n",
    "def neural_net_image_input(image_shape):\n",
    "    \"\"\"\n",
    "    Return a Tensor for a batch of image input\n",
    "    : image_shape: Shape of the images\n",
    "    : return: Tensor for image input.\n",
    "    \"\"\"\n",
    "    # TODO: Implement Function\n",
    "    shape = (None, image_shape[0], image_shape[1], image_shape[2])\n",
    "    return tf.placeholder(tf.float32, shape, name='x')\n",
    "\n",
    "\n",
    "def neural_net_label_input(n_classes):\n",
    "    \"\"\"\n",
    "    Return a Tensor for a batch of label input\n",
    "    : n_classes: Number of classes\n",
    "    : return: Tensor for label input.\n",
    "    \"\"\"\n",
    "    # TODO: Implement Function\n",
    "    shape = (None, n_classes)\n",
    "    return tf.placeholder(tf.float32, shape, name = 'y')\n",
    "\n",
    "\n",
    "def neural_net_keep_prob_input():\n",
    "    \"\"\"\n",
    "    Return a Tensor for keep probability\n",
    "    : return: Tensor for keep probability.\n",
    "    \"\"\"\n",
    "    # TODO: Implement Function\n",
    "    return tf.placeholder(tf.float32, name = 'keep_prob')\n",
    "\n",
    "\n",
    "\"\"\"\n",
    "DON'T MODIFY ANYTHING IN THIS CELL THAT IS BELOW THIS LINE\n",
    "\"\"\"\n",
    "tf.reset_default_graph()\n",
    "tests.test_nn_image_inputs(neural_net_image_input)\n",
    "tests.test_nn_label_inputs(neural_net_label_input)\n",
    "tests.test_nn_keep_prob_inputs(neural_net_keep_prob_input)"
   ]
  },
  {
   "cell_type": "markdown",
   "metadata": {},
   "source": [
    "### Convolution and Max Pooling Layer\n",
    "Convolution layers have a lot of success with images. For this code cell, you should implement the function `conv2d_maxpool` to apply convolution then max pooling:\n",
    "* Create the weight and bias using `conv_ksize`, `conv_num_outputs` and the shape of `x_tensor`.\n",
    "* Apply a convolution to `x_tensor` using weight and `conv_strides`.\n",
    " * We recommend you use same padding, but you're welcome to use any padding.\n",
    "* Add bias\n",
    "* Add a nonlinear activation to the convolution.\n",
    "* Apply Max Pooling using `pool_ksize` and `pool_strides`.\n",
    " * We recommend you use same padding, but you're welcome to use any padding.\n",
    "\n",
    "**Note:** You **can't** use [TensorFlow Layers](https://www.tensorflow.org/api_docs/python/tf/layers) or [TensorFlow Layers (contrib)](https://www.tensorflow.org/api_guides/python/contrib.layers) for **this** layer, but you can still use TensorFlow's [Neural Network](https://www.tensorflow.org/api_docs/python/tf/nn) package. You may still use the shortcut option for all the **other** layers.\n",
    "\n",
    "** Hint: **\n",
    "\n",
    "When unpacking values as an argument in Python, look into the [unpacking](https://docs.python.org/3/tutorial/controlflow.html#unpacking-argument-lists) operator. "
   ]
  },
  {
   "cell_type": "code",
   "execution_count": 15,
   "metadata": {},
   "outputs": [
    {
     "name": "stdout",
     "output_type": "stream",
     "text": [
      "Tests Passed\n"
     ]
    }
   ],
   "source": [
    "def conv2d_maxpool(x_tensor, conv_num_outputs, conv_ksize, conv_strides, pool_ksize, pool_strides):\n",
    "    \"\"\"\n",
    "    Apply convolution then max pooling to x_tensor\n",
    "    :param x_tensor: TensorFlow Tensor\n",
    "    :param conv_num_outputs: Number of outputs for the convolutional layer\n",
    "    :param conv_ksize: kernal size 2-D Tuple for the convolutional layer\n",
    "    :param conv_strides: Stride 2-D Tuple for convolution\n",
    "    :param pool_ksize: kernal size 2-D Tuple for pool\n",
    "    :param pool_strides: Stride 2-D Tuple for pool\n",
    "    : return: A tensor that represents convolution and max pooling of x_tensor\n",
    "    \"\"\"\n",
    "    # TODO: Implement Function\n",
    "    filter_weights = tf.Variable(tf.truncated_normal([*conv_ksize, x_tensor.shape.as_list()[-1], conv_num_outputs], stddev = 1.0/math.sqrt(x_tensor.shape.as_list()[-1])))\n",
    "    filter_bias = tf.Variable(tf.zeros(conv_num_outputs))\n",
    "    conv_layer = tf.nn.conv2d(x_tensor, filter_weights, strides=[1, *conv_strides, 1], padding='SAME')\n",
    "    conv_layer = tf.nn.bias_add(conv_layer, filter_bias)\n",
    "    conv_layer = tf.nn.relu(conv_layer)\n",
    "    \n",
    "    conv_layer = tf.nn.max_pool(conv_layer, ksize=[1, *pool_ksize, 1], strides=[1, *pool_strides, 1], padding='SAME')\n",
    "    return conv_layer \n",
    "\n",
    "\n",
    "\"\"\"\n",
    "DON'T MODIFY ANYTHING IN THIS CELL THAT IS BELOW THIS LINE\n",
    "\"\"\"\n",
    "tests.test_con_pool(conv2d_maxpool)"
   ]
  },
  {
   "cell_type": "markdown",
   "metadata": {},
   "source": [
    "### Flatten Layer\n",
    "Implement the `flatten` function to change the dimension of `x_tensor` from a 4-D tensor to a 2-D tensor.  The output should be the shape (*Batch Size*, *Flattened Image Size*). Shortcut option: you can use classes from the [TensorFlow Layers](https://www.tensorflow.org/api_docs/python/tf/layers) or [TensorFlow Layers (contrib)](https://www.tensorflow.org/api_guides/python/contrib.layers) packages for this layer. For more of a challenge, only use other TensorFlow packages."
   ]
  },
  {
   "cell_type": "code",
   "execution_count": 16,
   "metadata": {},
   "outputs": [
    {
     "name": "stdout",
     "output_type": "stream",
     "text": [
      "Tests Passed\n"
     ]
    }
   ],
   "source": [
    "def flatten(x_tensor):\n",
    "    \"\"\"\n",
    "    Flatten x_tensor to (Batch Size, Flattened Image Size)\n",
    "    : x_tensor: A tensor of size (Batch Size, ...), where ... are the image dimensions.\n",
    "    : return: A tensor of size (Batch Size, Flattened Image Size).\n",
    "    \"\"\"\n",
    "    # TODO: Implement Function\n",
    "    import functools\n",
    "    x_shape = x_tensor.shape.as_list()\n",
    "    flat_size = functools.reduce(lambda x,y: x*y, x_shape[1:])\n",
    "    flattened = tf.reshape(x_tensor, [-1, flat_size])\n",
    "    return flattened\n",
    "\n",
    "\n",
    "\"\"\"\n",
    "DON'T MODIFY ANYTHING IN THIS CELL THAT IS BELOW THIS LINE\n",
    "\"\"\"\n",
    "tests.test_flatten(flatten)"
   ]
  },
  {
   "cell_type": "markdown",
   "metadata": {},
   "source": [
    "### Fully-Connected Layer\n",
    "Implement the `fully_conn` function to apply a fully connected layer to `x_tensor` with the shape (*Batch Size*, *num_outputs*). Shortcut option: you can use classes from the [TensorFlow Layers](https://www.tensorflow.org/api_docs/python/tf/layers) or [TensorFlow Layers (contrib)](https://www.tensorflow.org/api_guides/python/contrib.layers) packages for this layer. For more of a challenge, only use other TensorFlow packages."
   ]
  },
  {
   "cell_type": "code",
   "execution_count": 17,
   "metadata": {},
   "outputs": [
    {
     "name": "stdout",
     "output_type": "stream",
     "text": [
      "Tests Passed\n"
     ]
    }
   ],
   "source": [
    "def fully_conn(x_tensor, num_outputs):\n",
    "    \"\"\"\n",
    "    Apply a fully connected layer to x_tensor using weight and bias\n",
    "    : x_tensor: A 2-D tensor where the first dimension is batch size.\n",
    "    : num_outputs: The number of output that the new tensor should be.\n",
    "    : return: A 2-D tensor where the second dimension is num_outputs.\n",
    "    \"\"\"\n",
    "    # TODO: Implement Function\n",
    "    input_size = x_tensor.shape.as_list()[1]\n",
    "    weights = tf.Variable(tf.truncated_normal([input_size, num_outputs], stddev = 1.0/math.sqrt(x_tensor.shape.as_list()[-1])))\n",
    "    bias = tf.Variable(tf.zeros(num_outputs))\n",
    "    outputs = tf.add(tf.matmul(x_tensor, weights), bias)\n",
    "    return tf.nn.relu(outputs)\n",
    "\n",
    "\n",
    "\"\"\"\n",
    "DON'T MODIFY ANYTHING IN THIS CELL THAT IS BELOW THIS LINE\n",
    "\"\"\"\n",
    "tests.test_fully_conn(fully_conn)"
   ]
  },
  {
   "cell_type": "markdown",
   "metadata": {},
   "source": [
    "### Output Layer\n",
    "Implement the `output` function to apply a fully connected layer to `x_tensor` with the shape (*Batch Size*, *num_outputs*). Shortcut option: you can use classes from the [TensorFlow Layers](https://www.tensorflow.org/api_docs/python/tf/layers) or [TensorFlow Layers (contrib)](https://www.tensorflow.org/api_guides/python/contrib.layers) packages for this layer. For more of a challenge, only use other TensorFlow packages.\n",
    "\n",
    "**Note:** Activation, softmax, or cross entropy should **not** be applied to this."
   ]
  },
  {
   "cell_type": "code",
   "execution_count": 18,
   "metadata": {},
   "outputs": [
    {
     "name": "stdout",
     "output_type": "stream",
     "text": [
      "Tests Passed\n"
     ]
    }
   ],
   "source": [
    "def output(x_tensor, num_outputs):\n",
    "    \"\"\"\n",
    "    Apply a output layer to x_tensor using weight and bias\n",
    "    : x_tensor: A 2-D tensor where the first dimension is batch size.\n",
    "    : num_outputs: The number of output that the new tensor should be.\n",
    "    : return: A 2-D tensor where the second dimension is num_outputs.\n",
    "    \"\"\"\n",
    "    # TODO: Implement Function\n",
    "    input_size = x_tensor.shape.as_list()[1]\n",
    "    weights = tf.Variable(tf.truncated_normal([input_size, num_outputs], stddev = 1.0/math.sqrt(x_tensor.shape.as_list()[-1])))\n",
    "    bias = tf.Variable(tf.zeros(num_outputs))\n",
    "    return tf.add(tf.matmul(x_tensor, weights), bias)\n",
    "\n",
    "\n",
    "\"\"\"\n",
    "DON'T MODIFY ANYTHING IN THIS CELL THAT IS BELOW THIS LINE\n",
    "\"\"\"\n",
    "tests.test_output(output)"
   ]
  },
  {
   "cell_type": "markdown",
   "metadata": {},
   "source": [
    "### Create Convolutional Model\n",
    "Implement the function `conv_net` to create a convolutional neural network model. The function takes in a batch of images, `x`, and outputs logits.  Use the layers you created above to create this model:\n",
    "\n",
    "* Apply 1, 2, or 3 Convolution and Max Pool layers\n",
    "* Apply a Flatten Layer\n",
    "* Apply 1, 2, or 3 Fully Connected Layers\n",
    "* Apply an Output Layer\n",
    "* Return the output\n",
    "* Apply [TensorFlow's Dropout](https://www.tensorflow.org/api_docs/python/tf/nn/dropout) to one or more layers in the model using `keep_prob`. "
   ]
  },
  {
   "cell_type": "code",
   "execution_count": 19,
   "metadata": {},
   "outputs": [
    {
     "name": "stdout",
     "output_type": "stream",
     "text": [
      "Neural Network Built!\n"
     ]
    }
   ],
   "source": [
    "def conv_net(x, keep_prob):\n",
    "    \"\"\"\n",
    "    Create a convolutional neural network model\n",
    "    : x: Placeholder tensor that holds image data.\n",
    "    : keep_prob: Placeholder tensor that hold dropout keep probability.\n",
    "    : return: Tensor that represents logits\n",
    "    \"\"\"\n",
    "    # TODO: Apply 1, 2, or 3 Convolution and Max Pool layers\n",
    "    #    Play around with different number of outputs, kernel size and stride\n",
    "    # Function Definition from Above:\n",
    "    #    conv2d_maxpool(x_tensor, conv_num_outputs, conv_ksize, conv_strides, pool_ksize, pool_strides)\n",
    "    conv1 = tf.nn.dropout(conv2d_maxpool(x, 64 , [2,2], [2,2], [2,2], [2,2]), keep_prob)\n",
    "    conv2 = tf.nn.dropout(conv2d_maxpool(conv1, 128, [2,2],[2,2],[2,2],[2,2]), keep_prob)\n",
    "    conv3 = tf.nn.dropout(conv2d_maxpool(conv2, 256, [2,2],[2,2],[2,2],[2,2]), keep_prob)\n",
    "\n",
    "    # TODO: Apply a Flatten Layer\n",
    "    # Function Definition from Above:\n",
    "    #   flatten(x_tensor)\n",
    "    flat = flatten(conv3)\n",
    "\n",
    "    # TODO: Apply 1, 2, or 3 Fully Connected Layers\n",
    "    #    Play around with different number of outputs\n",
    "    # Function Definition from Above:\n",
    "    #   fully_conn(x_tensor, num_outputs)\n",
    "    full1 = fully_conn(flat, 128)\n",
    "    full2 = fully_conn(full1, 64)\n",
    "    full3 = fully_conn(full2, 32)\n",
    "    \n",
    "    # TODO: Apply an Output Layer\n",
    "    #    Set this to the number of classes\n",
    "    # Function Definition from Above:\n",
    "    #   output(x_tensor, num_outputs)\n",
    "    out = output(full3, 10)\n",
    "    \n",
    "    # TODO: return output\n",
    "    return out\n",
    "\n",
    "\n",
    "\"\"\"\n",
    "DON'T MODIFY ANYTHING IN THIS CELL THAT IS BELOW THIS LINE\n",
    "\"\"\"\n",
    "\n",
    "##############################\n",
    "## Build the Neural Network ##\n",
    "##############################\n",
    "\n",
    "# Remove previous weights, bias, inputs, etc..\n",
    "tf.reset_default_graph()\n",
    "\n",
    "# Inputs\n",
    "x = neural_net_image_input((32, 32, 3))\n",
    "y = neural_net_label_input(10)\n",
    "keep_prob = neural_net_keep_prob_input()\n",
    "\n",
    "# Model\n",
    "logits = conv_net(x, keep_prob)\n",
    "\n",
    "# Name logits Tensor, so that is can be loaded from disk after training\n",
    "logits = tf.identity(logits, name='logits')\n",
    "\n",
    "# Loss and Optimizer\n",
    "cost = tf.reduce_mean(tf.nn.softmax_cross_entropy_with_logits(logits=logits, labels=y))\n",
    "optimizer = tf.train.AdamOptimizer().minimize(cost)\n",
    "\n",
    "# Accuracy\n",
    "correct_pred = tf.equal(tf.argmax(logits, 1), tf.argmax(y, 1))\n",
    "accuracy = tf.reduce_mean(tf.cast(correct_pred, tf.float32), name='accuracy')\n",
    "\n",
    "tests.test_conv_net(conv_net)"
   ]
  },
  {
   "cell_type": "markdown",
   "metadata": {},
   "source": [
    "## Train the Neural Network\n",
    "### Single Optimization\n",
    "Implement the function `train_neural_network` to do a single optimization.  The optimization should use `optimizer` to optimize in `session` with a `feed_dict` of the following:\n",
    "* `x` for image input\n",
    "* `y` for labels\n",
    "* `keep_prob` for keep probability for dropout\n",
    "\n",
    "This function will be called for each batch, so `tf.global_variables_initializer()` has already been called.\n",
    "\n",
    "Note: Nothing needs to be returned. This function is only optimizing the neural network."
   ]
  },
  {
   "cell_type": "code",
   "execution_count": 20,
   "metadata": {},
   "outputs": [
    {
     "name": "stdout",
     "output_type": "stream",
     "text": [
      "Tests Passed\n"
     ]
    }
   ],
   "source": [
    "def train_neural_network(session, optimizer, keep_probability, feature_batch, label_batch):\n",
    "    \"\"\"\n",
    "    Optimize the session on a batch of images and labels\n",
    "    : session: Current TensorFlow session\n",
    "    : optimizer: TensorFlow optimizer function\n",
    "    : keep_probability: keep probability\n",
    "    : feature_batch: Batch of Numpy image data\n",
    "    : label_batch: Batch of Numpy label data\n",
    "    \"\"\"\n",
    "    # TODO: Implement Function\n",
    "    session.run(optimizer, feed_dict={x: feature_batch, y: label_batch, keep_prob: keep_probability})\n",
    "    \n",
    "\n",
    "\n",
    "\"\"\"\n",
    "DON'T MODIFY ANYTHING IN THIS CELL THAT IS BELOW THIS LINE\n",
    "\"\"\"\n",
    "tests.test_train_nn(train_neural_network)"
   ]
  },
  {
   "cell_type": "markdown",
   "metadata": {},
   "source": [
    "### Show Stats\n",
    "Implement the function `print_stats` to print loss and validation accuracy.  Use the global variables `valid_features` and `valid_labels` to calculate validation accuracy.  Use a keep probability of `1.0` to calculate the loss and validation accuracy."
   ]
  },
  {
   "cell_type": "code",
   "execution_count": 21,
   "metadata": {
    "collapsed": true
   },
   "outputs": [],
   "source": [
    "def print_stats(session, feature_batch, label_batch, cost, accuracy):\n",
    "    \"\"\"\n",
    "    Print information about loss and validation accuracy\n",
    "    : session: Current TensorFlow session\n",
    "    : feature_batch: Batch of Numpy image data\n",
    "    : label_batch: Batch of Numpy label data\n",
    "    : cost: TensorFlow cost function\n",
    "    : accuracy: TensorFlow accuracy function\n",
    "    \"\"\"\n",
    "    # TODO: Implement Function\n",
    "    valid_accuracy = session.run(accuracy, feed_dict={x: feature_batch, y: label_batch, keep_prob: 1.0})\n",
    "    valid_cost = session.run(cost, feed_dict={x: valid_features, y: valid_labels, keep_prob: 1.0})\n",
    "    print('Accuracy: {}, Cost: {}'.format(valid_accuracy, valid_cost))"
   ]
  },
  {
   "cell_type": "markdown",
   "metadata": {},
   "source": [
    "### Hyperparameters\n",
    "Tune the following parameters:\n",
    "* Set `epochs` to the number of iterations until the network stops learning or start overfitting\n",
    "* Set `batch_size` to the highest number that your machine has memory for.  Most people set them to common sizes of memory:\n",
    " * 64\n",
    " * 128\n",
    " * 256\n",
    " * ...\n",
    "* Set `keep_probability` to the probability of keeping a node using dropout"
   ]
  },
  {
   "cell_type": "code",
   "execution_count": 22,
   "metadata": {
    "collapsed": true
   },
   "outputs": [],
   "source": [
    "# TODO: Tune Parameters\n",
    "epochs = 30\n",
    "batch_size = 128\n",
    "keep_probability = .5"
   ]
  },
  {
   "cell_type": "markdown",
   "metadata": {},
   "source": [
    "### Train on a Single CIFAR-10 Batch\n",
    "Instead of training the neural network on all the CIFAR-10 batches of data, let's use a single batch. This should save time while you iterate on the model to get a better accuracy.  Once the final validation accuracy is 50% or greater, run the model on all the data in the next section."
   ]
  },
  {
   "cell_type": "code",
   "execution_count": 23,
   "metadata": {},
   "outputs": [
    {
     "name": "stdout",
     "output_type": "stream",
     "text": [
      "Checking the Training on a Single Batch...\n",
      "Epoch  1, CIFAR-10 Batch 1:  Accuracy: 0.10000000149011612, Cost: 2.2985730171203613\n",
      "Epoch  2, CIFAR-10 Batch 1:  Accuracy: 0.15000000596046448, Cost: 2.2679550647735596\n",
      "Epoch  3, CIFAR-10 Batch 1:  Accuracy: 0.17499999701976776, Cost: 2.1794965267181396\n",
      "Epoch  4, CIFAR-10 Batch 1:  Accuracy: 0.125, Cost: 2.159925699234009\n",
      "Epoch  5, CIFAR-10 Batch 1:  Accuracy: 0.25, Cost: 2.1255784034729004\n",
      "Epoch  6, CIFAR-10 Batch 1:  Accuracy: 0.25, Cost: 2.0439188480377197\n",
      "Epoch  7, CIFAR-10 Batch 1:  Accuracy: 0.32499998807907104, Cost: 1.98428475856781\n",
      "Epoch  8, CIFAR-10 Batch 1:  Accuracy: 0.4000000059604645, Cost: 1.9403272867202759\n",
      "Epoch  9, CIFAR-10 Batch 1:  Accuracy: 0.375, Cost: 1.9040508270263672\n",
      "Epoch 10, CIFAR-10 Batch 1:  Accuracy: 0.42500001192092896, Cost: 1.8487218618392944\n",
      "Epoch 11, CIFAR-10 Batch 1:  Accuracy: 0.4000000059604645, Cost: 1.835677146911621\n",
      "Epoch 12, CIFAR-10 Batch 1:  Accuracy: 0.42500001192092896, Cost: 1.7976800203323364\n",
      "Epoch 13, CIFAR-10 Batch 1:  Accuracy: 0.375, Cost: 1.7872722148895264\n",
      "Epoch 14, CIFAR-10 Batch 1:  Accuracy: 0.44999998807907104, Cost: 1.7608498334884644\n",
      "Epoch 15, CIFAR-10 Batch 1:  Accuracy: 0.3499999940395355, Cost: 1.7388156652450562\n",
      "Epoch 16, CIFAR-10 Batch 1:  Accuracy: 0.32499998807907104, Cost: 1.7170979976654053\n",
      "Epoch 17, CIFAR-10 Batch 1:  Accuracy: 0.4000000059604645, Cost: 1.7123863697052002\n",
      "Epoch 18, CIFAR-10 Batch 1:  Accuracy: 0.44999998807907104, Cost: 1.6969538927078247\n",
      "Epoch 19, CIFAR-10 Batch 1:  Accuracy: 0.42500001192092896, Cost: 1.6779118776321411\n",
      "Epoch 20, CIFAR-10 Batch 1:  Accuracy: 0.5, Cost: 1.6529617309570312\n",
      "Epoch 21, CIFAR-10 Batch 1:  Accuracy: 0.4749999940395355, Cost: 1.6269512176513672\n",
      "Epoch 22, CIFAR-10 Batch 1:  Accuracy: 0.44999998807907104, Cost: 1.623689889907837\n",
      "Epoch 23, CIFAR-10 Batch 1:  Accuracy: 0.5, Cost: 1.6203421354293823\n",
      "Epoch 24, CIFAR-10 Batch 1:  Accuracy: 0.5, Cost: 1.6034386157989502\n",
      "Epoch 25, CIFAR-10 Batch 1:  Accuracy: 0.574999988079071, Cost: 1.6030879020690918\n",
      "Epoch 26, CIFAR-10 Batch 1:  Accuracy: 0.6000000238418579, Cost: 1.5930283069610596\n",
      "Epoch 27, CIFAR-10 Batch 1:  Accuracy: 0.5249999761581421, Cost: 1.5840789079666138\n",
      "Epoch 28, CIFAR-10 Batch 1:  Accuracy: 0.5249999761581421, Cost: 1.5680044889450073\n",
      "Epoch 29, CIFAR-10 Batch 1:  Accuracy: 0.574999988079071, Cost: 1.5501691102981567\n",
      "Epoch 30, CIFAR-10 Batch 1:  Accuracy: 0.6000000238418579, Cost: 1.5513514280319214\n"
     ]
    }
   ],
   "source": [
    "\"\"\"\n",
    "DON'T MODIFY ANYTHING IN THIS CELL\n",
    "\"\"\"\n",
    "print('Checking the Training on a Single Batch...')\n",
    "with tf.Session() as sess:\n",
    "    # Initializing the variables\n",
    "    sess.run(tf.global_variables_initializer())\n",
    "    \n",
    "    # Training cycle\n",
    "    for epoch in range(epochs):\n",
    "        batch_i = 1\n",
    "        for batch_features, batch_labels in helper.load_preprocess_training_batch(batch_i, batch_size):\n",
    "            train_neural_network(sess, optimizer, keep_probability, batch_features, batch_labels)\n",
    "        print('Epoch {:>2}, CIFAR-10 Batch {}:  '.format(epoch + 1, batch_i), end='')\n",
    "        print_stats(sess, batch_features, batch_labels, cost, accuracy)"
   ]
  },
  {
   "cell_type": "markdown",
   "metadata": {},
   "source": [
    "### Fully Train the Model\n",
    "Now that you got a good accuracy with a single CIFAR-10 batch, try it with all five batches."
   ]
  },
  {
   "cell_type": "code",
   "execution_count": 24,
   "metadata": {},
   "outputs": [
    {
     "name": "stdout",
     "output_type": "stream",
     "text": [
      "Training...\n",
      "Epoch  1, CIFAR-10 Batch 1:  Accuracy: 0.15000000596046448, Cost: 2.280609369277954\n",
      "Epoch  1, CIFAR-10 Batch 2:  Accuracy: 0.22499999403953552, Cost: 2.165982484817505\n",
      "Epoch  1, CIFAR-10 Batch 3:  Accuracy: 0.15000000596046448, Cost: 2.149693250656128\n",
      "Epoch  1, CIFAR-10 Batch 4:  Accuracy: 0.20000000298023224, Cost: 2.1201729774475098\n",
      "Epoch  1, CIFAR-10 Batch 5:  Accuracy: 0.15000000596046448, Cost: 2.075227737426758\n",
      "Epoch  2, CIFAR-10 Batch 1:  Accuracy: 0.42500001192092896, Cost: 2.024190902709961\n",
      "Epoch  2, CIFAR-10 Batch 2:  Accuracy: 0.20000000298023224, Cost: 1.9632905721664429\n",
      "Epoch  2, CIFAR-10 Batch 3:  Accuracy: 0.25, Cost: 1.9371310472488403\n",
      "Epoch  2, CIFAR-10 Batch 4:  Accuracy: 0.25, Cost: 1.9014577865600586\n",
      "Epoch  2, CIFAR-10 Batch 5:  Accuracy: 0.2750000059604645, Cost: 1.862578272819519\n",
      "Epoch  3, CIFAR-10 Batch 1:  Accuracy: 0.375, Cost: 1.8394625186920166\n",
      "Epoch  3, CIFAR-10 Batch 2:  Accuracy: 0.4000000059604645, Cost: 1.812393307685852\n",
      "Epoch  3, CIFAR-10 Batch 3:  Accuracy: 0.32499998807907104, Cost: 1.7850079536437988\n",
      "Epoch  3, CIFAR-10 Batch 4:  Accuracy: 0.30000001192092896, Cost: 1.775590419769287\n",
      "Epoch  3, CIFAR-10 Batch 5:  Accuracy: 0.32499998807907104, Cost: 1.7349447011947632\n",
      "Epoch  4, CIFAR-10 Batch 1:  Accuracy: 0.375, Cost: 1.7196582555770874\n",
      "Epoch  4, CIFAR-10 Batch 2:  Accuracy: 0.4000000059604645, Cost: 1.7026070356369019\n",
      "Epoch  4, CIFAR-10 Batch 3:  Accuracy: 0.375, Cost: 1.6977988481521606\n",
      "Epoch  4, CIFAR-10 Batch 4:  Accuracy: 0.30000001192092896, Cost: 1.695845365524292\n",
      "Epoch  4, CIFAR-10 Batch 5:  Accuracy: 0.375, Cost: 1.6659191846847534\n",
      "Epoch  5, CIFAR-10 Batch 1:  Accuracy: 0.5, Cost: 1.6316919326782227\n",
      "Epoch  5, CIFAR-10 Batch 2:  Accuracy: 0.4000000059604645, Cost: 1.6354488134384155\n",
      "Epoch  5, CIFAR-10 Batch 3:  Accuracy: 0.44999998807907104, Cost: 1.6153208017349243\n",
      "Epoch  5, CIFAR-10 Batch 4:  Accuracy: 0.42500001192092896, Cost: 1.6229645013809204\n",
      "Epoch  5, CIFAR-10 Batch 5:  Accuracy: 0.4000000059604645, Cost: 1.6101486682891846\n",
      "Epoch  6, CIFAR-10 Batch 1:  Accuracy: 0.5, Cost: 1.575834035873413\n",
      "Epoch  6, CIFAR-10 Batch 2:  Accuracy: 0.4000000059604645, Cost: 1.5653094053268433\n",
      "Epoch  6, CIFAR-10 Batch 3:  Accuracy: 0.5, Cost: 1.5535364151000977\n",
      "Epoch  6, CIFAR-10 Batch 4:  Accuracy: 0.44999998807907104, Cost: 1.5508873462677002\n",
      "Epoch  6, CIFAR-10 Batch 5:  Accuracy: 0.42500001192092896, Cost: 1.5468330383300781\n",
      "Epoch  7, CIFAR-10 Batch 1:  Accuracy: 0.5, Cost: 1.5199675559997559\n",
      "Epoch  7, CIFAR-10 Batch 2:  Accuracy: 0.44999998807907104, Cost: 1.5117400884628296\n",
      "Epoch  7, CIFAR-10 Batch 3:  Accuracy: 0.5, Cost: 1.5109930038452148\n",
      "Epoch  7, CIFAR-10 Batch 4:  Accuracy: 0.5249999761581421, Cost: 1.5003961324691772\n",
      "Epoch  7, CIFAR-10 Batch 5:  Accuracy: 0.44999998807907104, Cost: 1.4957401752471924\n",
      "Epoch  8, CIFAR-10 Batch 1:  Accuracy: 0.5249999761581421, Cost: 1.4849826097488403\n",
      "Epoch  8, CIFAR-10 Batch 2:  Accuracy: 0.44999998807907104, Cost: 1.4862850904464722\n",
      "Epoch  8, CIFAR-10 Batch 3:  Accuracy: 0.550000011920929, Cost: 1.4731794595718384\n",
      "Epoch  8, CIFAR-10 Batch 4:  Accuracy: 0.5249999761581421, Cost: 1.4641872644424438\n",
      "Epoch  8, CIFAR-10 Batch 5:  Accuracy: 0.44999998807907104, Cost: 1.4797961711883545\n",
      "Epoch  9, CIFAR-10 Batch 1:  Accuracy: 0.5249999761581421, Cost: 1.4519015550613403\n",
      "Epoch  9, CIFAR-10 Batch 2:  Accuracy: 0.44999998807907104, Cost: 1.4321367740631104\n",
      "Epoch  9, CIFAR-10 Batch 3:  Accuracy: 0.550000011920929, Cost: 1.441267967224121\n",
      "Epoch  9, CIFAR-10 Batch 4:  Accuracy: 0.5249999761581421, Cost: 1.4326014518737793\n",
      "Epoch  9, CIFAR-10 Batch 5:  Accuracy: 0.4749999940395355, Cost: 1.4390517473220825\n",
      "Epoch 10, CIFAR-10 Batch 1:  Accuracy: 0.5, Cost: 1.4210212230682373\n",
      "Epoch 10, CIFAR-10 Batch 2:  Accuracy: 0.5249999761581421, Cost: 1.42208731174469\n",
      "Epoch 10, CIFAR-10 Batch 3:  Accuracy: 0.550000011920929, Cost: 1.4259884357452393\n",
      "Epoch 10, CIFAR-10 Batch 4:  Accuracy: 0.5, Cost: 1.4166014194488525\n",
      "Epoch 10, CIFAR-10 Batch 5:  Accuracy: 0.4749999940395355, Cost: 1.4151300191879272\n",
      "Epoch 11, CIFAR-10 Batch 1:  Accuracy: 0.550000011920929, Cost: 1.38685941696167\n",
      "Epoch 11, CIFAR-10 Batch 2:  Accuracy: 0.4749999940395355, Cost: 1.3790091276168823\n",
      "Epoch 11, CIFAR-10 Batch 3:  Accuracy: 0.625, Cost: 1.3887064456939697\n",
      "Epoch 11, CIFAR-10 Batch 4:  Accuracy: 0.550000011920929, Cost: 1.394838571548462\n",
      "Epoch 11, CIFAR-10 Batch 5:  Accuracy: 0.4749999940395355, Cost: 1.3801493644714355\n",
      "Epoch 12, CIFAR-10 Batch 1:  Accuracy: 0.550000011920929, Cost: 1.366037368774414\n",
      "Epoch 12, CIFAR-10 Batch 2:  Accuracy: 0.5249999761581421, Cost: 1.364437460899353\n",
      "Epoch 12, CIFAR-10 Batch 3:  Accuracy: 0.6499999761581421, Cost: 1.372378945350647\n",
      "Epoch 12, CIFAR-10 Batch 4:  Accuracy: 0.550000011920929, Cost: 1.3619498014450073\n",
      "Epoch 12, CIFAR-10 Batch 5:  Accuracy: 0.5, Cost: 1.3575385808944702\n",
      "Epoch 13, CIFAR-10 Batch 1:  Accuracy: 0.6000000238418579, Cost: 1.3543472290039062\n",
      "Epoch 13, CIFAR-10 Batch 2:  Accuracy: 0.5, Cost: 1.3473678827285767\n",
      "Epoch 13, CIFAR-10 Batch 3:  Accuracy: 0.6000000238418579, Cost: 1.3509790897369385\n",
      "Epoch 13, CIFAR-10 Batch 4:  Accuracy: 0.574999988079071, Cost: 1.3364602327346802\n",
      "Epoch 13, CIFAR-10 Batch 5:  Accuracy: 0.44999998807907104, Cost: 1.34843111038208\n",
      "Epoch 14, CIFAR-10 Batch 1:  Accuracy: 0.574999988079071, Cost: 1.3491106033325195\n",
      "Epoch 14, CIFAR-10 Batch 2:  Accuracy: 0.5249999761581421, Cost: 1.3251161575317383\n",
      "Epoch 14, CIFAR-10 Batch 3:  Accuracy: 0.675000011920929, Cost: 1.3352748155593872\n",
      "Epoch 14, CIFAR-10 Batch 4:  Accuracy: 0.6000000238418579, Cost: 1.3390928506851196\n",
      "Epoch 14, CIFAR-10 Batch 5:  Accuracy: 0.44999998807907104, Cost: 1.3254302740097046\n",
      "Epoch 15, CIFAR-10 Batch 1:  Accuracy: 0.550000011920929, Cost: 1.32772696018219\n",
      "Epoch 15, CIFAR-10 Batch 2:  Accuracy: 0.5249999761581421, Cost: 1.3156306743621826\n",
      "Epoch 15, CIFAR-10 Batch 3:  Accuracy: 0.6499999761581421, Cost: 1.3221282958984375\n",
      "Epoch 15, CIFAR-10 Batch 4:  Accuracy: 0.6000000238418579, Cost: 1.317011833190918\n",
      "Epoch 15, CIFAR-10 Batch 5:  Accuracy: 0.44999998807907104, Cost: 1.3298370838165283\n",
      "Epoch 16, CIFAR-10 Batch 1:  Accuracy: 0.550000011920929, Cost: 1.3168327808380127\n",
      "Epoch 16, CIFAR-10 Batch 2:  Accuracy: 0.5, Cost: 1.311995267868042\n",
      "Epoch 16, CIFAR-10 Batch 3:  Accuracy: 0.675000011920929, Cost: 1.3108967542648315\n",
      "Epoch 16, CIFAR-10 Batch 4:  Accuracy: 0.6000000238418579, Cost: 1.3009419441223145\n",
      "Epoch 16, CIFAR-10 Batch 5:  Accuracy: 0.5, Cost: 1.3164429664611816\n",
      "Epoch 17, CIFAR-10 Batch 1:  Accuracy: 0.6000000238418579, Cost: 1.3064595460891724\n",
      "Epoch 17, CIFAR-10 Batch 2:  Accuracy: 0.5249999761581421, Cost: 1.293128490447998\n",
      "Epoch 17, CIFAR-10 Batch 3:  Accuracy: 0.574999988079071, Cost: 1.2926292419433594\n",
      "Epoch 17, CIFAR-10 Batch 4:  Accuracy: 0.550000011920929, Cost: 1.2876899242401123\n",
      "Epoch 17, CIFAR-10 Batch 5:  Accuracy: 0.550000011920929, Cost: 1.2843103408813477\n",
      "Epoch 18, CIFAR-10 Batch 1:  Accuracy: 0.550000011920929, Cost: 1.2833888530731201\n",
      "Epoch 18, CIFAR-10 Batch 2:  Accuracy: 0.5249999761581421, Cost: 1.2783877849578857\n",
      "Epoch 18, CIFAR-10 Batch 3:  Accuracy: 0.699999988079071, Cost: 1.290396809577942\n",
      "Epoch 18, CIFAR-10 Batch 4:  Accuracy: 0.6000000238418579, Cost: 1.277218222618103\n",
      "Epoch 18, CIFAR-10 Batch 5:  Accuracy: 0.5249999761581421, Cost: 1.2787529230117798\n",
      "Epoch 19, CIFAR-10 Batch 1:  Accuracy: 0.574999988079071, Cost: 1.2799593210220337\n",
      "Epoch 19, CIFAR-10 Batch 2:  Accuracy: 0.5249999761581421, Cost: 1.2781018018722534\n",
      "Epoch 19, CIFAR-10 Batch 3:  Accuracy: 0.675000011920929, Cost: 1.269559383392334\n",
      "Epoch 19, CIFAR-10 Batch 4:  Accuracy: 0.625, Cost: 1.275908350944519\n",
      "Epoch 19, CIFAR-10 Batch 5:  Accuracy: 0.42500001192092896, Cost: 1.2763160467147827\n",
      "Epoch 20, CIFAR-10 Batch 1:  Accuracy: 0.574999988079071, Cost: 1.2736828327178955\n",
      "Epoch 20, CIFAR-10 Batch 2:  Accuracy: 0.5249999761581421, Cost: 1.2704083919525146\n",
      "Epoch 20, CIFAR-10 Batch 3:  Accuracy: 0.625, Cost: 1.266814947128296\n",
      "Epoch 20, CIFAR-10 Batch 4:  Accuracy: 0.6000000238418579, Cost: 1.2610177993774414\n",
      "Epoch 20, CIFAR-10 Batch 5:  Accuracy: 0.5249999761581421, Cost: 1.278454065322876\n",
      "Epoch 21, CIFAR-10 Batch 1:  Accuracy: 0.6000000238418579, Cost: 1.2531205415725708\n"
     ]
    },
    {
     "name": "stdout",
     "output_type": "stream",
     "text": [
      "Epoch 21, CIFAR-10 Batch 2:  Accuracy: 0.5249999761581421, Cost: 1.2591091394424438\n",
      "Epoch 21, CIFAR-10 Batch 3:  Accuracy: 0.625, Cost: 1.2589246034622192\n",
      "Epoch 21, CIFAR-10 Batch 4:  Accuracy: 0.625, Cost: 1.2627431154251099\n",
      "Epoch 21, CIFAR-10 Batch 5:  Accuracy: 0.5249999761581421, Cost: 1.2917349338531494\n",
      "Epoch 22, CIFAR-10 Batch 1:  Accuracy: 0.574999988079071, Cost: 1.2512906789779663\n",
      "Epoch 22, CIFAR-10 Batch 2:  Accuracy: 0.5249999761581421, Cost: 1.2458451986312866\n",
      "Epoch 22, CIFAR-10 Batch 3:  Accuracy: 0.6499999761581421, Cost: 1.2667566537857056\n",
      "Epoch 22, CIFAR-10 Batch 4:  Accuracy: 0.6000000238418579, Cost: 1.2508056163787842\n",
      "Epoch 22, CIFAR-10 Batch 5:  Accuracy: 0.5249999761581421, Cost: 1.249780535697937\n",
      "Epoch 23, CIFAR-10 Batch 1:  Accuracy: 0.6000000238418579, Cost: 1.2545136213302612\n",
      "Epoch 23, CIFAR-10 Batch 2:  Accuracy: 0.5, Cost: 1.2465994358062744\n",
      "Epoch 23, CIFAR-10 Batch 3:  Accuracy: 0.699999988079071, Cost: 1.2541152238845825\n",
      "Epoch 23, CIFAR-10 Batch 4:  Accuracy: 0.6000000238418579, Cost: 1.244886040687561\n",
      "Epoch 23, CIFAR-10 Batch 5:  Accuracy: 0.5, Cost: 1.2349703311920166\n",
      "Epoch 24, CIFAR-10 Batch 1:  Accuracy: 0.574999988079071, Cost: 1.2423346042633057\n",
      "Epoch 24, CIFAR-10 Batch 2:  Accuracy: 0.5249999761581421, Cost: 1.2284045219421387\n",
      "Epoch 24, CIFAR-10 Batch 3:  Accuracy: 0.699999988079071, Cost: 1.235529899597168\n",
      "Epoch 24, CIFAR-10 Batch 4:  Accuracy: 0.574999988079071, Cost: 1.2514346837997437\n",
      "Epoch 24, CIFAR-10 Batch 5:  Accuracy: 0.550000011920929, Cost: 1.2444692850112915\n",
      "Epoch 25, CIFAR-10 Batch 1:  Accuracy: 0.574999988079071, Cost: 1.241011381149292\n",
      "Epoch 25, CIFAR-10 Batch 2:  Accuracy: 0.5, Cost: 1.2364915609359741\n",
      "Epoch 25, CIFAR-10 Batch 3:  Accuracy: 0.6499999761581421, Cost: 1.2380338907241821\n",
      "Epoch 25, CIFAR-10 Batch 4:  Accuracy: 0.625, Cost: 1.226479411125183\n",
      "Epoch 25, CIFAR-10 Batch 5:  Accuracy: 0.6000000238418579, Cost: 1.233655571937561\n",
      "Epoch 26, CIFAR-10 Batch 1:  Accuracy: 0.6499999761581421, Cost: 1.2391526699066162\n",
      "Epoch 26, CIFAR-10 Batch 2:  Accuracy: 0.550000011920929, Cost: 1.2246766090393066\n",
      "Epoch 26, CIFAR-10 Batch 3:  Accuracy: 0.675000011920929, Cost: 1.2285242080688477\n",
      "Epoch 26, CIFAR-10 Batch 4:  Accuracy: 0.625, Cost: 1.2310166358947754\n",
      "Epoch 26, CIFAR-10 Batch 5:  Accuracy: 0.574999988079071, Cost: 1.2287594079971313\n",
      "Epoch 27, CIFAR-10 Batch 1:  Accuracy: 0.6499999761581421, Cost: 1.229435920715332\n",
      "Epoch 27, CIFAR-10 Batch 2:  Accuracy: 0.5249999761581421, Cost: 1.2187849283218384\n",
      "Epoch 27, CIFAR-10 Batch 3:  Accuracy: 0.625, Cost: 1.2271775007247925\n",
      "Epoch 27, CIFAR-10 Batch 4:  Accuracy: 0.574999988079071, Cost: 1.2154669761657715\n",
      "Epoch 27, CIFAR-10 Batch 5:  Accuracy: 0.4749999940395355, Cost: 1.2321662902832031\n",
      "Epoch 28, CIFAR-10 Batch 1:  Accuracy: 0.6499999761581421, Cost: 1.2302157878875732\n",
      "Epoch 28, CIFAR-10 Batch 2:  Accuracy: 0.5249999761581421, Cost: 1.217248797416687\n",
      "Epoch 28, CIFAR-10 Batch 3:  Accuracy: 0.6499999761581421, Cost: 1.2188342809677124\n",
      "Epoch 28, CIFAR-10 Batch 4:  Accuracy: 0.6000000238418579, Cost: 1.2140525579452515\n",
      "Epoch 28, CIFAR-10 Batch 5:  Accuracy: 0.5249999761581421, Cost: 1.231261134147644\n",
      "Epoch 29, CIFAR-10 Batch 1:  Accuracy: 0.625, Cost: 1.2129830121994019\n",
      "Epoch 29, CIFAR-10 Batch 2:  Accuracy: 0.574999988079071, Cost: 1.21016526222229\n",
      "Epoch 29, CIFAR-10 Batch 3:  Accuracy: 0.699999988079071, Cost: 1.2236831188201904\n",
      "Epoch 29, CIFAR-10 Batch 4:  Accuracy: 0.6000000238418579, Cost: 1.2073603868484497\n",
      "Epoch 29, CIFAR-10 Batch 5:  Accuracy: 0.550000011920929, Cost: 1.2161890268325806\n",
      "Epoch 30, CIFAR-10 Batch 1:  Accuracy: 0.675000011920929, Cost: 1.2110779285430908\n",
      "Epoch 30, CIFAR-10 Batch 2:  Accuracy: 0.5249999761581421, Cost: 1.2155542373657227\n",
      "Epoch 30, CIFAR-10 Batch 3:  Accuracy: 0.675000011920929, Cost: 1.2051875591278076\n",
      "Epoch 30, CIFAR-10 Batch 4:  Accuracy: 0.625, Cost: 1.2025606632232666\n",
      "Epoch 30, CIFAR-10 Batch 5:  Accuracy: 0.6000000238418579, Cost: 1.220001459121704\n"
     ]
    }
   ],
   "source": [
    "\"\"\"\n",
    "DON'T MODIFY ANYTHING IN THIS CELL\n",
    "\"\"\"\n",
    "save_model_path = './image_classification'\n",
    "\n",
    "print('Training...')\n",
    "with tf.Session() as sess:\n",
    "    # Initializing the variables\n",
    "    sess.run(tf.global_variables_initializer())\n",
    "    \n",
    "    # Training cycle\n",
    "    for epoch in range(epochs):\n",
    "        # Loop over all batches\n",
    "        n_batches = 5\n",
    "        for batch_i in range(1, n_batches + 1):\n",
    "            for batch_features, batch_labels in helper.load_preprocess_training_batch(batch_i, batch_size):\n",
    "                train_neural_network(sess, optimizer, keep_probability, batch_features, batch_labels)\n",
    "            print('Epoch {:>2}, CIFAR-10 Batch {}:  '.format(epoch + 1, batch_i), end='')\n",
    "            print_stats(sess, batch_features, batch_labels, cost, accuracy)\n",
    "            \n",
    "    # Save Model\n",
    "    saver = tf.train.Saver()\n",
    "    save_path = saver.save(sess, save_model_path)"
   ]
  },
  {
   "cell_type": "markdown",
   "metadata": {},
   "source": [
    "# Checkpoint\n",
    "The model has been saved to disk.\n",
    "## Test Model\n",
    "Test your model against the test dataset.  This will be your final accuracy. You should have an accuracy greater than 50%. If you don't, keep tweaking the model architecture and parameters."
   ]
  },
  {
   "cell_type": "code",
   "execution_count": 25,
   "metadata": {},
   "outputs": [
    {
     "name": "stdout",
     "output_type": "stream",
     "text": [
      "INFO:tensorflow:Restoring parameters from ./image_classification\n",
      "Testing Accuracy: 0.5568631329113924\n",
      "\n"
     ]
    },
    {
     "data": {
      "image/png": "[encoded data removed]",
      "text/plain": [
       "<matplotlib.figure.Figure at 0x12c1fb8d0>"
      ]
     },
     "metadata": {
      "image/png": {
       "height": 319,
       "width": 355
      }
     },
     "output_type": "display_data"
    }
   ],
   "source": [
    "\"\"\"\n",
    "DON'T MODIFY ANYTHING IN THIS CELL\n",
    "\"\"\"\n",
    "%matplotlib inline\n",
    "%config InlineBackend.figure_format = 'retina'\n",
    "\n",
    "import tensorflow as tf\n",
    "import pickle\n",
    "import helper\n",
    "import random\n",
    "\n",
    "# Set batch size if not already set\n",
    "try:\n",
    "    if batch_size:\n",
    "        pass\n",
    "except NameError:\n",
    "    batch_size = 64\n",
    "\n",
    "save_model_path = './image_classification'\n",
    "n_samples = 4\n",
    "top_n_predictions = 3\n",
    "\n",
    "def test_model():\n",
    "    \"\"\"\n",
    "    Test the saved model against the test dataset\n",
    "    \"\"\"\n",
    "\n",
    "    test_features, test_labels = pickle.load(open('preprocess_training.p', mode='rb'))\n",
    "    loaded_graph = tf.Graph()\n",
    "\n",
    "    with tf.Session(graph=loaded_graph) as sess:\n",
    "        # Load model\n",
    "        loader = tf.train.import_meta_graph(save_model_path + '.meta')\n",
    "        loader.restore(sess, save_model_path)\n",
    "\n",
    "        # Get Tensors from loaded model\n",
    "        loaded_x = loaded_graph.get_tensor_by_name('x:0')\n",
    "        loaded_y = loaded_graph.get_tensor_by_name('y:0')\n",
    "        loaded_keep_prob = loaded_graph.get_tensor_by_name('keep_prob:0')\n",
    "        loaded_logits = loaded_graph.get_tensor_by_name('logits:0')\n",
    "        loaded_acc = loaded_graph.get_tensor_by_name('accuracy:0')\n",
    "        \n",
    "        # Get accuracy in batches for memory limitations\n",
    "        test_batch_acc_total = 0\n",
    "        test_batch_count = 0\n",
    "        \n",
    "        for train_feature_batch, train_label_batch in helper.batch_features_labels(test_features, test_labels, batch_size):\n",
    "            test_batch_acc_total += sess.run(\n",
    "                loaded_acc,\n",
    "                feed_dict={loaded_x: train_feature_batch, loaded_y: train_label_batch, loaded_keep_prob: 1.0})\n",
    "            test_batch_count += 1\n",
    "\n",
    "        print('Testing Accuracy: {}\\n'.format(test_batch_acc_total/test_batch_count))\n",
    "\n",
    "        # Print Random Samples\n",
    "        random_test_features, random_test_labels = tuple(zip(*random.sample(list(zip(test_features, test_labels)), n_samples)))\n",
    "        random_test_predictions = sess.run(\n",
    "            tf.nn.top_k(tf.nn.softmax(loaded_logits), top_n_predictions),\n",
    "            feed_dict={loaded_x: random_test_features, loaded_y: random_test_labels, loaded_keep_prob: 1.0})\n",
    "        helper.display_image_predictions(random_test_features, random_test_labels, random_test_predictions)\n",
    "\n",
    "\n",
    "test_model()"
   ]
  },
  {
   "cell_type": "markdown",
   "metadata": {},
   "source": [
    "## Why 50-80% Accuracy?\n",
    "You might be wondering why you can't get an accuracy any higher. First things first, 50% isn't bad for a simple CNN.  Pure guessing would get you 10% accuracy. That's because there are many more techniques that can be applied to your model and we recemmond that once you are done with this project, you explore!\n",
    "\n",
    "## Submitting This Project\n",
    "When submitting this project, make sure to run all the cells before saving the notebook.  Save the notebook file as \"image_classification.ipynb\" and save it as a HTML file under \"File\" -> \"Download as\".  Include the \"helper.py\" and \"problem_unittests.py\" files in your submission."
   ]
  }
 ],
 "metadata": {
  "kernelspec": {
   "display_name": "Python 3",
   "language": "python",
   "name": "python3"
  },
  "language_info": {
   "codemirror_mode": {
    "name": "ipython",
    "version": 3
   },
   "file_extension": ".py",
   "mimetype": "text/x-python",
   "name": "python",
   "nbconvert_exporter": "python",
   "pygments_lexer": "ipython3",
   "version": "3.5.3"
  }
 },
 "nbformat": 4,
 "nbformat_minor": 1
}
